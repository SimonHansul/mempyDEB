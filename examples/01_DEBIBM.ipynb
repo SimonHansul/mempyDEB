{
 "cells": [
  {
   "cell_type": "markdown",
   "metadata": {},
   "source": [
    "# Using the IBM-feature\n",
    "\n",
    "`mempyDEB` also contains a feature to run simple individual-based models (IBMs). This is done with the `mesa` package. <br>\n",
    "The implementation of the DEB-IBM is independent of the DEB-ODE (i.e., the \"normal\" model based implemented purely as ordinary differential equations). <br>\n",
    "The syntax is however quite similar, which makes it easy to switch between the two."
   ]
  },
  {
   "cell_type": "code",
   "execution_count": 1,
   "metadata": {},
   "outputs": [],
   "source": [
    "from mempyDEB.DEBIBM.simulators import *\n",
    "from mempyDEB.DEBIBM.defaultparams import *"
   ]
  },
  {
   "cell_type": "code",
   "execution_count": 2,
   "metadata": {},
   "outputs": [
    {
     "name": "stderr",
     "output_type": "stream",
     "text": [
      "  0%|          | 0/3 [00:00<?, ?it/s]c:\\users\\simon\\documents\\python\\mempydeb\\mempyDEB\\DEBIBM\\classes.py:93: FutureWarning: The Mesa Model class was not initialized. In the future, you need to explicitly initialize the Model by calling super().__init__() on initialization.\n",
      "  super().__init__(unique_id, model)\n",
      "  0%|          | 0/3 [00:00<?, ?it/s]\n"
     ]
    },
    {
     "ename": "AttributeError",
     "evalue": "'dict' object has no attribute 'spc'",
     "output_type": "error",
     "traceback": [
      "\u001b[1;31m---------------------------------------------------------------------------\u001b[0m",
      "\u001b[1;31mAttributeError\u001b[0m                            Traceback (most recent call last)",
      "Cell \u001b[1;32mIn[2], line 1\u001b[0m\n\u001b[1;32m----> 1\u001b[0m \u001b[43msimulate_DEBIBM\u001b[49m\u001b[43m(\u001b[49m\u001b[43mdefaultparams_DEBIBM\u001b[49m\u001b[43m)\u001b[49m\n",
      "File \u001b[1;32mc:\\users\\simon\\documents\\python\\mempydeb\\mempyDEB\\DEBIBM\\simulators.py:34\u001b[0m, in \u001b[0;36msimulate_DEBIBM\u001b[1;34m(params)\u001b[0m\n\u001b[0;32m     31\u001b[0m aout_tot \u001b[38;5;241m=\u001b[39m pd\u001b[38;5;241m.\u001b[39mDataFrame()\n\u001b[0;32m     33\u001b[0m \u001b[38;5;28;01mfor\u001b[39;00m replicate \u001b[38;5;129;01min\u001b[39;00m tqdm(\u001b[38;5;28mrange\u001b[39m(glb[\u001b[38;5;124m'\u001b[39m\u001b[38;5;124mreplicates\u001b[39m\u001b[38;5;124m'\u001b[39m])): \u001b[38;5;66;03m# for the given number of replicates\u001b[39;00m\n\u001b[1;32m---> 34\u001b[0m     model \u001b[38;5;241m=\u001b[39m \u001b[43mIBM\u001b[49m\u001b[43m(\u001b[49m\u001b[43mparams\u001b[49m\u001b[43m)\u001b[49m \n\u001b[0;32m     36\u001b[0m     model\u001b[38;5;241m.\u001b[39mdatacollector\u001b[38;5;241m.\u001b[39mcollect(model) \u001b[38;5;66;03m# always record the initial state\u001b[39;00m\n\u001b[0;32m     37\u001b[0m     \u001b[38;5;28;01mfor\u001b[39;00m _ \u001b[38;5;129;01min\u001b[39;00m \u001b[38;5;28mrange\u001b[39m(tmax_steps): \u001b[38;5;66;03m# for the given number of model steps\u001b[39;00m\n",
      "File \u001b[1;32mc:\\users\\simon\\documents\\python\\mempydeb\\mempyDEB\\DEBIBM\\classes.py:491\u001b[0m, in \u001b[0;36mIBM.__init__\u001b[1;34m(self, params)\u001b[0m\n\u001b[0;32m    489\u001b[0m a\u001b[38;5;241m.\u001b[39mcohort \u001b[38;5;241m=\u001b[39m \u001b[38;5;241m0\u001b[39m \u001b[38;5;66;03m# parental cohort is 0\u001b[39;00m\n\u001b[0;32m    490\u001b[0m a\u001b[38;5;241m.\u001b[39minit_parameters(\u001b[38;5;28mself\u001b[39m) \u001b[38;5;66;03m# parameters are assigned from param dictionary \u001b[39;00m\n\u001b[1;32m--> 491\u001b[0m \u001b[43ma\u001b[49m\u001b[38;5;241;43m.\u001b[39;49m\u001b[43minit_statevars\u001b[49m\u001b[43m(\u001b[49m\u001b[38;5;28;43mself\u001b[39;49m\u001b[38;5;241;43m.\u001b[39;49m\u001b[43mspc\u001b[49m\u001b[43m)\u001b[49m \u001b[38;5;66;03m# set initial values of state variables\u001b[39;00m\n\u001b[0;32m    492\u001b[0m \u001b[38;5;28mself\u001b[39m\u001b[38;5;241m.\u001b[39munique_id_count \u001b[38;5;241m+\u001b[39m\u001b[38;5;241m=\u001b[39m \u001b[38;5;241m1\u001b[39m \u001b[38;5;66;03m# keep track of the cumulative number of animals in the simulation\u001b[39;00m\n\u001b[0;32m    493\u001b[0m \u001b[38;5;28mself\u001b[39m\u001b[38;5;241m.\u001b[39mschedule\u001b[38;5;241m.\u001b[39madd(a) \u001b[38;5;66;03m# add animal to the population\u001b[39;00m\n",
      "File \u001b[1;32mc:\\users\\simon\\documents\\python\\mempydeb\\mempyDEB\\DEBIBM\\classes.py:110\u001b[0m, in \u001b[0;36mAnimal.init_statevars\u001b[1;34m(self, model)\u001b[0m\n\u001b[0;32m    108\u001b[0m \u001b[38;5;28mself\u001b[39m\u001b[38;5;241m.\u001b[39ma \u001b[38;5;241m=\u001b[39m \u001b[38;5;241m0\u001b[39m \u001b[38;5;66;03m# age \u001b[39;00m\n\u001b[0;32m    109\u001b[0m \u001b[38;5;28mself\u001b[39m\u001b[38;5;241m.\u001b[39mlife_stage \u001b[38;5;241m=\u001b[39m \u001b[38;5;241m1\u001b[39m \u001b[38;5;66;03m# everyone starts as embryo\u001b[39;00m\n\u001b[1;32m--> 110\u001b[0m \u001b[38;5;28mself\u001b[39m\u001b[38;5;241m.\u001b[39mS \u001b[38;5;241m=\u001b[39m S_REL_INT \u001b[38;5;241m*\u001b[39m \u001b[43mmodel\u001b[49m\u001b[38;5;241;43m.\u001b[39;49m\u001b[43mspc\u001b[49m[\u001b[38;5;124m'\u001b[39m\u001b[38;5;124mX_emb_int_mean\u001b[39m\u001b[38;5;124m'\u001b[39m] \u001b[38;5;66;03m# mass of the vitellus set to initial value\u001b[39;00m\n\u001b[0;32m    112\u001b[0m \u001b[38;5;28mself\u001b[39m\u001b[38;5;241m.\u001b[39mS_max_hist \u001b[38;5;241m=\u001b[39m \u001b[38;5;28mself\u001b[39m\u001b[38;5;241m.\u001b[39mS \u001b[38;5;66;03m# historical maximum structural mass\u001b[39;00m\n\u001b[0;32m    114\u001b[0m \u001b[38;5;28mself\u001b[39m\u001b[38;5;241m.\u001b[39mIdot \u001b[38;5;241m=\u001b[39m \u001b[38;5;241m0.0\u001b[39m \u001b[38;5;66;03m# ingestion rate\u001b[39;00m\n",
      "\u001b[1;31mAttributeError\u001b[0m: 'dict' object has no attribute 'spc'"
     ]
    }
   ],
   "source": [
    "simulate_DEBIBM(defaultparams_DEBIBM)"
   ]
  }
 ],
 "metadata": {
  "kernelspec": {
   "display_name": "mempyDEB_test",
   "language": "python",
   "name": "python3"
  },
  "language_info": {
   "codemirror_mode": {
    "name": "ipython",
    "version": 3
   },
   "file_extension": ".py",
   "mimetype": "text/x-python",
   "name": "python",
   "nbconvert_exporter": "python",
   "pygments_lexer": "ipython3",
   "version": "3.12.5"
  }
 },
 "nbformat": 4,
 "nbformat_minor": 2
}
