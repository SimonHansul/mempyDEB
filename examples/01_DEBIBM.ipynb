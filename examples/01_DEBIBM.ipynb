{
 "cells": [
  {
   "cell_type": "markdown",
   "metadata": {},
   "source": [
    "# Using the IBM-feature\n",
    "\n",
    "`mempyDEB` also contains a feature to run simple individual-based models (IBMs). This is done with the `mesa` package. <br>\n",
    "The implementation of the DEB-IBM is independent of the DEB-ODE (i.e., the \"normal\" model based implemented purely as ordinary differential equations). <br>\n",
    "The syntax is however quite similar, which makes it easy to switch between the two."
   ]
  },
  {
   "cell_type": "code",
   "execution_count": 1,
   "metadata": {},
   "outputs": [],
   "source": [
    "from mempyDEB.DEBIBM.simulators import *\n",
    "from mempyDEB.DEBIBM.defaultparams import *"
   ]
  },
  {
   "cell_type": "code",
   "execution_count": 2,
   "metadata": {},
   "outputs": [
    {
     "ename": "NameError",
     "evalue": "name 'simulate_DEBIBM' is not defined",
     "output_type": "error",
     "traceback": [
      "\u001b[1;31m---------------------------------------------------------------------------\u001b[0m",
      "\u001b[1;31mNameError\u001b[0m                                 Traceback (most recent call last)",
      "Cell \u001b[1;32mIn[2], line 1\u001b[0m\n\u001b[1;32m----> 1\u001b[0m \u001b[43msimulate_DEBIBM\u001b[49m(defaultparams_DEBIBM)\n",
      "\u001b[1;31mNameError\u001b[0m: name 'simulate_DEBIBM' is not defined"
     ]
    }
   ],
   "source": [
    "simulate_DEBIBM(defaultparams_DEBIBM)"
   ]
  }
 ],
 "metadata": {
  "kernelspec": {
   "display_name": "mempyDEB_test",
   "language": "python",
   "name": "python3"
  },
  "language_info": {
   "codemirror_mode": {
    "name": "ipython",
    "version": 3
   },
   "file_extension": ".py",
   "mimetype": "text/x-python",
   "name": "python",
   "nbconvert_exporter": "python",
   "pygments_lexer": "ipython3",
   "version": "3.12.5"
  }
 },
 "nbformat": 4,
 "nbformat_minor": 2
}
